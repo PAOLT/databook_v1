{
 "cells": [
  {
   "cell_type": "markdown",
   "id": "19ec0271",
   "metadata": {},
   "source": [
    "# Inference"
   ]
  },
  {
   "cell_type": "markdown",
   "id": "7da3f8f2-5a70-4c0e-bdc2-b640f2a04d28",
   "metadata": {},
   "source": [
    "To run this you need:\n",
    "\n",
    "    pip install pandas\n",
    "    pip install sklearn\n"
   ]
  },
  {
   "cell_type": "code",
   "execution_count": null,
   "id": "650845a2",
   "metadata": {},
   "outputs": [],
   "source": [
    "from data_book import DataBook\n",
    "# import sklearn as skl\n",
    "# from sklearn.model_selection import train_test_split\n",
    "# from sklearn.metrics import confusion_matrix\n",
    "# from sklearn.ensemble import RandomForestClassifier\n",
    "# from sklearn.metrics import classification_report\n",
    "# from sklearn import svm\n",
    "# from sklearn.linear_model import LogisticRegression\n",
    "# print(skl.__version__)\n",
    "raw_data_path = './Data-v1/JsonFiles/26-06-2022_1EY DB.csv.json' #'./Data-v1/OutputEnriched1006.xls'"
   ]
  },
  {
   "cell_type": "markdown",
   "id": "c544ccc2",
   "metadata": {},
   "source": [
    "## Loading an Excel file as a DataBook object"
   ]
  },
  {
   "cell_type": "code",
   "execution_count": null,
   "id": "a349af5c",
   "metadata": {},
   "outputs": [],
   "source": [
    "dBook = DataBook()\n",
    "dBook.load_file(raw_data_path)\n",
    "dBook.get_source_data()"
   ]
  },
  {
   "cell_type": "markdown",
   "id": "cd6a75ff",
   "metadata": {},
   "source": [
    "## Add features\n",
    "\n",
    "We compute features for each cell, that is, for each cell we process its context"
   ]
  },
  {
   "cell_type": "code",
   "execution_count": null,
   "id": "4f1d500f",
   "metadata": {},
   "outputs": [],
   "source": [
    "dBook.pre_process_data()\n",
    "dBook.get_data()"
   ]
  },
  {
   "cell_type": "markdown",
   "id": "2456b430",
   "metadata": {},
   "source": [
    "## Get some data to make a prediction\n",
    "\n",
    "Note that as this is test code, we are just using the same data we already used for training."
   ]
  },
  {
   "cell_type": "code",
   "execution_count": null,
   "id": "2c4f1cb6",
   "metadata": {},
   "outputs": [],
   "source": [
    "df=dBook.get_inconsistent_cells()\n",
    "df"
   ]
  },
  {
   "cell_type": "markdown",
   "id": "409eab24",
   "metadata": {},
   "source": [
    "## Make inference"
   ]
  },
  {
   "cell_type": "code",
   "execution_count": null,
   "id": "de7d294f",
   "metadata": {},
   "outputs": [],
   "source": [
    "import pickle\n",
    "with open('./model.pkl', 'rb') as f:\n",
    "    model = pickle.load(f)\n",
    "model"
   ]
  },
  {
   "cell_type": "code",
   "execution_count": null,
   "id": "ab0704de",
   "metadata": {},
   "outputs": [],
   "source": [
    "predictions = model.predict(df)"
   ]
  },
  {
   "cell_type": "code",
   "execution_count": null,
   "id": "09b2af8a",
   "metadata": {},
   "outputs": [],
   "source": [
    "[idx for idx, pred in zip(df.index, predictions) if pred]"
   ]
  },
  {
   "cell_type": "code",
   "execution_count": null,
   "id": "776e9de3",
   "metadata": {},
   "outputs": [],
   "source": [
    "import json\n",
    "\n",
    "jsonDict = {idx:str(pred) for idx, pred in zip(df.index, predictions)}\n",
    "jsonString = json.dumps(jsonDict, indent=4)\n",
    "\n",
    "\n",
    "fileName = f\"__scored__{dBook.get_raw_data_path().stem}.json\"\n",
    "\n",
    "with open(fileName, 'w') as f:\n",
    "    f.write(jsonString)"
   ]
  }
 ],
 "metadata": {
  "kernelspec": {
   "display_name": "py38_databook",
   "language": "python",
   "name": "transformers"
  },
  "language_info": {
   "codemirror_mode": {
    "name": "ipython",
    "version": 3
   },
   "file_extension": ".py",
   "mimetype": "text/x-python",
   "name": "python",
   "nbconvert_exporter": "python",
   "pygments_lexer": "ipython3",
   "version": "3.8.13"
  }
 },
 "nbformat": 4,
 "nbformat_minor": 5
}
