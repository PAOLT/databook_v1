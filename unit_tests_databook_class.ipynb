{
 "cells": [
  {
   "cell_type": "markdown",
   "id": "30d97576",
   "metadata": {},
   "source": [
    "# unit testing"
   ]
  },
  {
   "cell_type": "code",
   "execution_count": 1,
   "id": "2f717e98",
   "metadata": {},
   "outputs": [],
   "source": [
    "from data_book import DataBook, v_norm_formula, col_names\n",
    "import pandas as pd\n",
    "import numpy as np"
   ]
  },
  {
   "cell_type": "code",
   "execution_count": 2,
   "id": "0ea0772a",
   "metadata": {},
   "outputs": [],
   "source": [
    "# test data\n",
    "test_df = pd.DataFrame({'numRow':[1,2,3,4,5], \n",
    "                        'numCol':[2,2,2,2,2], \n",
    "                        'sheetName':['sheet1', 'sheet1', 'sheet1', 'sheet1', 'sheet1'], \n",
    "                       'cellFormula':[np.NaN, 'Z2/K2', 'Z3/K3', 'Z4+K4', 'SUM(B2:B4)'],\n",
    "                       'cellValue':[np.NaN, '2', '3', '4.0', '9.0'],\n",
    "                       'cellType':[np.NaN, 'int', 'int', 'float', 'float'],\n",
    "                       'vNormFormula':[np.NaN, 'Z*/K*', 'Z*/K*', 'Z*+K*', 'SUM(B*:B*)']},\n",
    "                       index=['sheet1!B1', 'sheet1!B2', 'sheet1!B3', 'sheet1!B4', 'sheet1!B5'])"
   ]
  },
  {
   "cell_type": "code",
   "execution_count": 3,
   "id": "221bce33",
   "metadata": {},
   "outputs": [],
   "source": [
    "db=DataBook()\n",
    "db.load_data(test_df)\n",
    "db.pre_process_data()"
   ]
  },
  {
   "cell_type": "code",
   "execution_count": 4,
   "id": "cd5635c2",
   "metadata": {},
   "outputs": [],
   "source": [
    "df=db.get_data()\n",
    "assert all(df.index==['sheet1!B2', 'sheet1!B3', 'sheet1!B4', 'sheet1!B5'])"
   ]
  },
  {
   "cell_type": "code",
   "execution_count": 5,
   "id": "ec7ea71d",
   "metadata": {},
   "outputs": [],
   "source": [
    "db._add_negative_cases(keys=['sheet1!B3'])"
   ]
  },
  {
   "cell_type": "code",
   "execution_count": 6,
   "id": "0f88f30d",
   "metadata": {},
   "outputs": [
    {
     "data": {
      "text/plain": [
       "Label                            False\n",
       "up1_isBlank                      False\n",
       "up1_isFormula                     True\n",
       "up1_isSameType                    True\n",
       "up1_isWeaklyFormulaConsistent     True\n",
       "up2_isWeaklyFormulaConsistent    False\n",
       "dw1_isBlank                      False\n",
       "dw1_isFormula                     True\n",
       "dw1_isSameType                   False\n",
       "dw1_isWeaklyFormulaConsistent    False\n",
       "dw2_isWeaklyFormulaConsistent    False\n",
       "nb1_isWeaklyFormulaConsistent    False\n",
       "dw1_isSum                        False\n",
       "Name: sheet1!B3, dtype: bool"
      ]
     },
     "execution_count": 6,
     "metadata": {},
     "output_type": "execute_result"
    }
   ],
   "source": [
    "df.loc['sheet1!B3']"
   ]
  },
  {
   "cell_type": "code",
   "execution_count": 9,
   "id": "e8b37444",
   "metadata": {},
   "outputs": [],
   "source": [
    "df=db.get_data()\n",
    "assert len(df.loc['sheet1!B3'])==2\n",
    "assert len(df.loc['sheet1!B3','Label'].unique())==2\n",
    "assert len(df.loc['sheet1!B3','dw1_isWeaklyFormulaConsistent'].unique())==1\n",
    "assert len(df.loc['sheet1!B3','up1_isWeaklyFormulaConsistent'].unique())==2"
   ]
  },
  {
   "cell_type": "code",
   "execution_count": 10,
   "id": "9bd22fcf",
   "metadata": {},
   "outputs": [],
   "source": [
    "# v_norm_formula\n",
    "assert (v_norm_formula(\"SUM(D1:D123)\") == 'SUM(D*:D*)')"
   ]
  },
  {
   "cell_type": "code",
   "execution_count": 11,
   "id": "add6197c",
   "metadata": {},
   "outputs": [],
   "source": [
    "# col_names\n",
    "assert col_names()[0]=='na'\n",
    "assert col_names()[2]=='B'\n",
    "assert col_names()[28]=='AB'"
   ]
  },
  {
   "cell_type": "code",
   "execution_count": 12,
   "id": "e566f6f1",
   "metadata": {},
   "outputs": [],
   "source": [
    "# _get_v_cell_ref\n",
    "assert (db._get_v_cell_ref(10, 1, 2, 'sheet')=='sheet!A12')\n",
    "assert (db._get_v_cell_ref(1, 1, -1, 'sheet') is None)"
   ]
  },
  {
   "cell_type": "code",
   "execution_count": 13,
   "id": "6f8d3969",
   "metadata": {},
   "outputs": [],
   "source": [
    "# get_that_from_this\n",
    "assert (db._get_that_from_this(test_df.loc['sheet1!B2'], -1).name=='sheet1!B1')\n",
    "assert (db._get_that_from_this(test_df.loc['sheet1!B1'], 1).name=='sheet1!B2')\n",
    "assert (db._get_that_from_this(test_df.loc['sheet1!B1'], -1)==None)"
   ]
  },
  {
   "cell_type": "code",
   "execution_count": 14,
   "id": "f7cbda82",
   "metadata": {},
   "outputs": [],
   "source": [
    "# isBlank\n",
    "assert(db._isBlank(None, None))\n",
    "assert(db._isBlank(None, test_df.iloc[0]))\n",
    "assert(not db._isBlank(None, test_df.iloc[1]))"
   ]
  },
  {
   "cell_type": "code",
   "execution_count": 15,
   "id": "01180fe7",
   "metadata": {},
   "outputs": [],
   "source": [
    "# isFormula\n",
    "assert(not db._isFormula(None, None))\n",
    "assert(not db._isFormula(None, test_df.iloc[0]))\n",
    "assert(db._isFormula(None, test_df.iloc[1]))"
   ]
  },
  {
   "cell_type": "code",
   "execution_count": 16,
   "id": "276cbdbb",
   "metadata": {},
   "outputs": [],
   "source": [
    "# isSameType\n",
    "assert (not db._isSameType(None, test_df.iloc[0]))\n",
    "assert (not db._isSameType(test_df.iloc[0], None))\n",
    "assert (db._isSameType(test_df.iloc[1], test_df.iloc[2]))\n",
    "assert (not db._isSameType(test_df.iloc[1], test_df.iloc[3]))"
   ]
  },
  {
   "cell_type": "code",
   "execution_count": 17,
   "id": "0514c578",
   "metadata": {},
   "outputs": [],
   "source": [
    "# isWeaklyFormulaConsistent\n",
    "assert (db._isWeaklyFormulaConsistent(None, test_df.iloc[1]))\n",
    "assert (db._isWeaklyFormulaConsistent(test_df.iloc[1], None))\n",
    "assert (db._isWeaklyFormulaConsistent(test_df.iloc[1], test_df.iloc[2]))\n",
    "assert (not db._isWeaklyFormulaConsistent(test_df.iloc[1], test_df.iloc[3]))"
   ]
  },
  {
   "cell_type": "code",
   "execution_count": 20,
   "id": "be418f84",
   "metadata": {},
   "outputs": [],
   "source": [
    "# isSum\n",
    "assert (db._isSum(None, test_df.iloc[4]))\n",
    "assert (not db._isSum(None, test_df.iloc[3]))"
   ]
  }
 ],
 "metadata": {
  "kernelspec": {
   "display_name": "Python 3",
   "language": "python",
   "name": "python3"
  },
  "language_info": {
   "codemirror_mode": {
    "name": "ipython",
    "version": 3
   },
   "file_extension": ".py",
   "mimetype": "text/x-python",
   "name": "python",
   "nbconvert_exporter": "python",
   "pygments_lexer": "ipython3",
   "version": "3.7.9"
  }
 },
 "nbformat": 4,
 "nbformat_minor": 5
}
