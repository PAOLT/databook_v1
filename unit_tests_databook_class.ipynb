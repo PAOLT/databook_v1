{
 "cells": [
  {
   "cell_type": "markdown",
   "id": "30d97576",
   "metadata": {},
   "source": [
    "# unit testing"
   ]
  },
  {
   "cell_type": "code",
   "execution_count": 1,
   "id": "2f717e98",
   "metadata": {},
   "outputs": [],
   "source": [
    "from data_book import DataBook, v_norm_formula, col_names\n",
    "import pandas as pd\n",
    "import numpy as np"
   ]
  },
  {
   "cell_type": "code",
   "execution_count": 2,
   "id": "0ea0772a",
   "metadata": {},
   "outputs": [],
   "source": [
    "# test data\n",
    "test_df = pd.DataFrame({'numRow':[1,2,3,4,5], \n",
    "                        'numCol':[2,2,2,2,2], \n",
    "                        'sheetName':['sheet1', 'sheet1', 'sheet1', 'sheet1', 'sheet1'], \n",
    "                       'cellFormula':[np.NaN, 'Z2/K2', 'Z3/K3', 'Z4+K4', 'SUM(B2:B4)'],\n",
    "                       'cellValue':[np.NaN, '2', '3', '4.0', '9.0'],\n",
    "                       'cellType':[np.NaN, 'int', 'int', 'float', 'float'],\n",
    "                       'vNormFormula':[np.NaN, 'Z*/K*', 'Z*/K*', 'Z*+K*', 'SUM(B*:B*)']},\n",
    "                       index=['sheet1!B1', 'sheet1!B2', 'sheet1!B3', 'sheet1!B4', 'sheet1!B5'])"
   ]
  },
  {
   "cell_type": "code",
   "execution_count": 3,
   "id": "221bce33",
   "metadata": {},
   "outputs": [],
   "source": [
    "db=DataBook()\n",
    "db.load_data(test_df)\n",
    "db.pre_process_data()"
   ]
  },
  {
   "cell_type": "code",
   "execution_count": 4,
   "id": "cd5635c2",
   "metadata": {},
   "outputs": [],
   "source": [
    "df=db.get_data()\n",
    "assert all(df.index==['sheet1!B2', 'sheet1!B3', 'sheet1!B4', 'sheet1!B5'])"
   ]
  },
  {
   "cell_type": "code",
   "execution_count": 5,
   "id": "ec7ea71d",
   "metadata": {},
   "outputs": [],
   "source": [
    "db._add_positive_cases(keys=['sheet1!B3'])"
   ]
  },
  {
   "cell_type": "code",
   "execution_count": 6,
   "id": "0f88f30d",
   "metadata": {},
   "outputs": [
    {
     "data": {
      "text/plain": [
       "sheetName                        sheet1\n",
       "Label                             False\n",
       "up1_isBlank                       False\n",
       "up1_isFormula                      True\n",
       "up1_isSameType                     True\n",
       "up1_isWeaklyFormulaConsistent      True\n",
       "up2_isWeaklyFormulaConsistent     False\n",
       "dw1_isBlank                       False\n",
       "dw1_isFormula                      True\n",
       "dw1_isSameType                    False\n",
       "dw1_isWeaklyFormulaConsistent     False\n",
       "dw2_isWeaklyFormulaConsistent     False\n",
       "nb1_isWeaklyFormulaConsistent     False\n",
       "dw1_isSum                         False\n",
       "Name: sheet1!B3, dtype: object"
      ]
     },
     "execution_count": 6,
     "metadata": {},
     "output_type": "execute_result"
    }
   ],
   "source": [
    "df.loc['sheet1!B3']"
   ]
  },
  {
   "cell_type": "code",
   "execution_count": 7,
   "id": "e8b37444",
   "metadata": {},
   "outputs": [],
   "source": [
    "df=db.get_data()\n",
    "assert len(df.loc['sheet1!B3'])==2\n",
    "assert len(df.loc['sheet1!B3','Label'].unique())==2\n",
    "assert len(df.loc['sheet1!B3','dw1_isWeaklyFormulaConsistent'].unique())==1\n",
    "assert len(df.loc['sheet1!B3','up1_isWeaklyFormulaConsistent'].unique())==2"
   ]
  },
  {
   "cell_type": "code",
   "execution_count": 8,
   "id": "9bd22fcf",
   "metadata": {},
   "outputs": [],
   "source": [
    "# v_norm_formula\n",
    "assert (v_norm_formula(\"SUM(D1:D123)\") == 'SUM(D*:D*)')"
   ]
  },
  {
   "cell_type": "code",
   "execution_count": 9,
   "id": "add6197c",
   "metadata": {},
   "outputs": [],
   "source": [
    "# col_names\n",
    "assert col_names()[0]=='na'\n",
    "assert col_names()[2]=='B'\n",
    "assert col_names()[28]=='AB'"
   ]
  },
  {
   "cell_type": "code",
   "execution_count": 10,
   "id": "e566f6f1",
   "metadata": {},
   "outputs": [],
   "source": [
    "# _get_v_cell_ref\n",
    "assert (db._get_v_cell_ref(10, 1, 2, 'sheet')=='sheet!A12')\n",
    "assert (db._get_v_cell_ref(1, 1, -1, 'sheet') is None)"
   ]
  },
  {
   "cell_type": "code",
   "execution_count": 11,
   "id": "6f8d3969",
   "metadata": {},
   "outputs": [],
   "source": [
    "# get_that_from_this\n",
    "assert (db._get_that_from_this(test_df.loc['sheet1!B2'], -1).name=='sheet1!B1')\n",
    "assert (db._get_that_from_this(test_df.loc['sheet1!B1'], 1).name=='sheet1!B2')\n",
    "assert (db._get_that_from_this(test_df.loc['sheet1!B1'], -1)==None)"
   ]
  },
  {
   "cell_type": "code",
   "execution_count": 12,
   "id": "f7cbda82",
   "metadata": {},
   "outputs": [],
   "source": [
    "# isBlank\n",
    "assert(db._isBlank(None, None))\n",
    "assert(db._isBlank(None, test_df.iloc[0]))\n",
    "assert(not db._isBlank(None, test_df.iloc[1]))"
   ]
  },
  {
   "cell_type": "code",
   "execution_count": 13,
   "id": "01180fe7",
   "metadata": {},
   "outputs": [],
   "source": [
    "# isFormula\n",
    "assert(not db._isFormula(None, None))\n",
    "assert(not db._isFormula(None, test_df.iloc[0]))\n",
    "assert(db._isFormula(None, test_df.iloc[1]))"
   ]
  },
  {
   "cell_type": "code",
   "execution_count": 14,
   "id": "276cbdbb",
   "metadata": {},
   "outputs": [],
   "source": [
    "# isSameType\n",
    "assert (not db._isSameType(None, test_df.iloc[0]))\n",
    "assert (not db._isSameType(test_df.iloc[0], None))\n",
    "assert (db._isSameType(test_df.iloc[1], test_df.iloc[2]))\n",
    "assert (not db._isSameType(test_df.iloc[1], test_df.iloc[3]))"
   ]
  },
  {
   "cell_type": "code",
   "execution_count": 15,
   "id": "0514c578",
   "metadata": {},
   "outputs": [],
   "source": [
    "# isWeaklyFormulaConsistent\n",
    "assert (db._isWeaklyFormulaConsistent(None, test_df.iloc[1]))\n",
    "assert (db._isWeaklyFormulaConsistent(test_df.iloc[1], None))\n",
    "assert (db._isWeaklyFormulaConsistent(test_df.iloc[1], test_df.iloc[2]))\n",
    "assert (not db._isWeaklyFormulaConsistent(test_df.iloc[1], test_df.iloc[3]))"
   ]
  },
  {
   "cell_type": "code",
   "execution_count": 16,
   "id": "be418f84",
   "metadata": {},
   "outputs": [],
   "source": [
    "# isSum\n",
    "assert (db._isSum(None, test_df.iloc[4]))\n",
    "assert (not db._isSum(None, test_df.iloc[3]))"
   ]
  },
  {
   "cell_type": "code",
   "execution_count": 22,
   "id": "fcff6dcb",
   "metadata": {},
   "outputs": [
    {
     "data": {
      "text/html": [
       "<div>\n",
       "<style scoped>\n",
       "    .dataframe tbody tr th:only-of-type {\n",
       "        vertical-align: middle;\n",
       "    }\n",
       "\n",
       "    .dataframe tbody tr th {\n",
       "        vertical-align: top;\n",
       "    }\n",
       "\n",
       "    .dataframe thead th {\n",
       "        text-align: right;\n",
       "    }\n",
       "</style>\n",
       "<table border=\"1\" class=\"dataframe\">\n",
       "  <thead>\n",
       "    <tr style=\"text-align: right;\">\n",
       "      <th></th>\n",
       "      <th>numRow</th>\n",
       "      <th>workbookName</th>\n",
       "      <th>numCol</th>\n",
       "      <th>sheetName</th>\n",
       "      <th>cellAddress</th>\n",
       "      <th>cellFormula</th>\n",
       "      <th>cellValue</th>\n",
       "      <th>cellType</th>\n",
       "      <th>vNormFormula</th>\n",
       "    </tr>\n",
       "  </thead>\n",
       "  <tbody>\n",
       "    <tr>\n",
       "      <th>sheet1!B1</th>\n",
       "      <td>1</td>\n",
       "      <td>wb</td>\n",
       "      <td>2</td>\n",
       "      <td>sheet1</td>\n",
       "      <td>B1</td>\n",
       "      <td>NaN</td>\n",
       "      <td>NaN</td>\n",
       "      <td>NaN</td>\n",
       "      <td>NaN</td>\n",
       "    </tr>\n",
       "    <tr>\n",
       "      <th>sheet1!B2</th>\n",
       "      <td>2</td>\n",
       "      <td>wb</td>\n",
       "      <td>2</td>\n",
       "      <td>sheet1</td>\n",
       "      <td>B2</td>\n",
       "      <td>Z2/K2</td>\n",
       "      <td>2</td>\n",
       "      <td>int</td>\n",
       "      <td>Z*/K*</td>\n",
       "    </tr>\n",
       "    <tr>\n",
       "      <th>sheet1!B3</th>\n",
       "      <td>3</td>\n",
       "      <td>wb</td>\n",
       "      <td>2</td>\n",
       "      <td>sheet1</td>\n",
       "      <td>B3</td>\n",
       "      <td>Z3/K3</td>\n",
       "      <td>3</td>\n",
       "      <td>int</td>\n",
       "      <td>Z*/K*</td>\n",
       "    </tr>\n",
       "    <tr>\n",
       "      <th>sheet1!B4</th>\n",
       "      <td>4</td>\n",
       "      <td>wb</td>\n",
       "      <td>2</td>\n",
       "      <td>sheet1</td>\n",
       "      <td>B4</td>\n",
       "      <td>Z4+K4</td>\n",
       "      <td>4.0</td>\n",
       "      <td>float</td>\n",
       "      <td>Z*+K*</td>\n",
       "    </tr>\n",
       "    <tr>\n",
       "      <th>sheet1!B5</th>\n",
       "      <td>5</td>\n",
       "      <td>wb</td>\n",
       "      <td>2</td>\n",
       "      <td>sheet1</td>\n",
       "      <td>B5</td>\n",
       "      <td>SUM(B2:B4)</td>\n",
       "      <td>9.0</td>\n",
       "      <td>float</td>\n",
       "      <td>SUM(B*:B*)</td>\n",
       "    </tr>\n",
       "  </tbody>\n",
       "</table>\n",
       "</div>"
      ],
      "text/plain": [
       "           numRow workbookName  numCol sheetName cellAddress cellFormula  \\\n",
       "sheet1!B1       1           wb       2    sheet1          B1         NaN   \n",
       "sheet1!B2       2           wb       2    sheet1          B2       Z2/K2   \n",
       "sheet1!B3       3           wb       2    sheet1          B3       Z3/K3   \n",
       "sheet1!B4       4           wb       2    sheet1          B4       Z4+K4   \n",
       "sheet1!B5       5           wb       2    sheet1          B5  SUM(B2:B4)   \n",
       "\n",
       "          cellValue cellType vNormFormula  \n",
       "sheet1!B1       NaN      NaN          NaN  \n",
       "sheet1!B2         2      int        Z*/K*  \n",
       "sheet1!B3         3      int        Z*/K*  \n",
       "sheet1!B4       4.0    float        Z*+K*  \n",
       "sheet1!B5       9.0    float   SUM(B*:B*)  "
      ]
     },
     "execution_count": 22,
     "metadata": {},
     "output_type": "execute_result"
    }
   ],
   "source": [
    "# test data\n",
    "test_df_inf = pd.DataFrame({'numRow':[1,2,3,4,5], \n",
    "                        'workbookName':['wb','wb','wb','wb','wb'],\n",
    "                        'numCol':[2,2,2,2,2], \n",
    "                        'sheetName':['sheet1', 'sheet1', 'sheet1', 'sheet1', 'sheet1'], \n",
    "                        'cellAddress':['B1', 'B2', 'B3', 'B4', 'B5'],\n",
    "                       'cellFormula':[np.NaN, 'Z2/K2', 'Z3/K3', 'Z4+K4', 'SUM(B2:B4)'],\n",
    "                       'cellValue':[np.NaN, '2', '3', '4.0', '9.0'],\n",
    "                       'cellType':[np.NaN, 'int', 'int', 'float', 'float'],\n",
    "                       'vNormFormula':[np.NaN, 'Z*/K*', 'Z*/K*', 'Z*+K*', 'SUM(B*:B*)']},\n",
    "                       index=['sheet1!B1', 'sheet1!B2', 'sheet1!B3', 'sheet1!B4', 'sheet1!B5'])\n",
    "test_df_inf"
   ]
  },
  {
   "cell_type": "code",
   "execution_count": 23,
   "id": "c1cbac73",
   "metadata": {},
   "outputs": [],
   "source": [
    "db_inf=DataBook()\n",
    "db_inf.load_data(test_df_inf)\n",
    "db_inf.pre_process_data(for_training=False)\n",
    "assert db_inf.label not in db_inf.df.columns.to_list()"
   ]
  },
  {
   "cell_type": "code",
   "execution_count": 25,
   "id": "48f917fb",
   "metadata": {},
   "outputs": [
    {
     "data": {
      "text/html": [
       "<div>\n",
       "<style scoped>\n",
       "    .dataframe tbody tr th:only-of-type {\n",
       "        vertical-align: middle;\n",
       "    }\n",
       "\n",
       "    .dataframe tbody tr th {\n",
       "        vertical-align: top;\n",
       "    }\n",
       "\n",
       "    .dataframe thead th {\n",
       "        text-align: right;\n",
       "    }\n",
       "</style>\n",
       "<table border=\"1\" class=\"dataframe\">\n",
       "  <thead>\n",
       "    <tr style=\"text-align: right;\">\n",
       "      <th></th>\n",
       "      <th>numRow</th>\n",
       "      <th>workbookName</th>\n",
       "      <th>numCol</th>\n",
       "      <th>sheetName</th>\n",
       "      <th>cellAddress</th>\n",
       "      <th>cellFormula</th>\n",
       "      <th>cellValue</th>\n",
       "      <th>cellType</th>\n",
       "      <th>vNormFormula</th>\n",
       "      <th>up1_isBlank</th>\n",
       "      <th>...</th>\n",
       "      <th>up1_isSameType</th>\n",
       "      <th>up1_isWeaklyFormulaConsistent</th>\n",
       "      <th>up2_isWeaklyFormulaConsistent</th>\n",
       "      <th>dw1_isBlank</th>\n",
       "      <th>dw1_isFormula</th>\n",
       "      <th>dw1_isSameType</th>\n",
       "      <th>dw1_isWeaklyFormulaConsistent</th>\n",
       "      <th>dw2_isWeaklyFormulaConsistent</th>\n",
       "      <th>nb1_isWeaklyFormulaConsistent</th>\n",
       "      <th>dw1_isSum</th>\n",
       "    </tr>\n",
       "  </thead>\n",
       "  <tbody>\n",
       "    <tr>\n",
       "      <th>sheet1!B2</th>\n",
       "      <td>2</td>\n",
       "      <td>wb</td>\n",
       "      <td>2</td>\n",
       "      <td>sheet1</td>\n",
       "      <td>B2</td>\n",
       "      <td>Z2/K2</td>\n",
       "      <td>2</td>\n",
       "      <td>int</td>\n",
       "      <td>Z*/K*</td>\n",
       "      <td>True</td>\n",
       "      <td>...</td>\n",
       "      <td>False</td>\n",
       "      <td>False</td>\n",
       "      <td>True</td>\n",
       "      <td>False</td>\n",
       "      <td>True</td>\n",
       "      <td>True</td>\n",
       "      <td>True</td>\n",
       "      <td>True</td>\n",
       "      <td>False</td>\n",
       "      <td>False</td>\n",
       "    </tr>\n",
       "    <tr>\n",
       "      <th>sheet1!B3</th>\n",
       "      <td>3</td>\n",
       "      <td>wb</td>\n",
       "      <td>2</td>\n",
       "      <td>sheet1</td>\n",
       "      <td>B3</td>\n",
       "      <td>Z3/K3</td>\n",
       "      <td>3</td>\n",
       "      <td>int</td>\n",
       "      <td>Z*/K*</td>\n",
       "      <td>False</td>\n",
       "      <td>...</td>\n",
       "      <td>True</td>\n",
       "      <td>True</td>\n",
       "      <td>False</td>\n",
       "      <td>False</td>\n",
       "      <td>True</td>\n",
       "      <td>False</td>\n",
       "      <td>False</td>\n",
       "      <td>False</td>\n",
       "      <td>False</td>\n",
       "      <td>False</td>\n",
       "    </tr>\n",
       "    <tr>\n",
       "      <th>sheet1!B4</th>\n",
       "      <td>4</td>\n",
       "      <td>wb</td>\n",
       "      <td>2</td>\n",
       "      <td>sheet1</td>\n",
       "      <td>B4</td>\n",
       "      <td>Z4+K4</td>\n",
       "      <td>4.0</td>\n",
       "      <td>float</td>\n",
       "      <td>Z*+K*</td>\n",
       "      <td>False</td>\n",
       "      <td>...</td>\n",
       "      <td>False</td>\n",
       "      <td>False</td>\n",
       "      <td>True</td>\n",
       "      <td>False</td>\n",
       "      <td>True</td>\n",
       "      <td>True</td>\n",
       "      <td>False</td>\n",
       "      <td>True</td>\n",
       "      <td>False</td>\n",
       "      <td>True</td>\n",
       "    </tr>\n",
       "    <tr>\n",
       "      <th>sheet1!B5</th>\n",
       "      <td>5</td>\n",
       "      <td>wb</td>\n",
       "      <td>2</td>\n",
       "      <td>sheet1</td>\n",
       "      <td>B5</td>\n",
       "      <td>SUM(B2:B4)</td>\n",
       "      <td>9.0</td>\n",
       "      <td>float</td>\n",
       "      <td>SUM(B*:B*)</td>\n",
       "      <td>False</td>\n",
       "      <td>...</td>\n",
       "      <td>True</td>\n",
       "      <td>False</td>\n",
       "      <td>False</td>\n",
       "      <td>True</td>\n",
       "      <td>False</td>\n",
       "      <td>False</td>\n",
       "      <td>True</td>\n",
       "      <td>False</td>\n",
       "      <td>True</td>\n",
       "      <td>False</td>\n",
       "    </tr>\n",
       "  </tbody>\n",
       "</table>\n",
       "<p>4 rows × 21 columns</p>\n",
       "</div>"
      ],
      "text/plain": [
       "           numRow workbookName  numCol sheetName cellAddress cellFormula  \\\n",
       "sheet1!B2       2           wb       2    sheet1          B2       Z2/K2   \n",
       "sheet1!B3       3           wb       2    sheet1          B3       Z3/K3   \n",
       "sheet1!B4       4           wb       2    sheet1          B4       Z4+K4   \n",
       "sheet1!B5       5           wb       2    sheet1          B5  SUM(B2:B4)   \n",
       "\n",
       "          cellValue cellType vNormFormula  up1_isBlank  ...  up1_isSameType  \\\n",
       "sheet1!B2         2      int        Z*/K*         True  ...           False   \n",
       "sheet1!B3         3      int        Z*/K*        False  ...            True   \n",
       "sheet1!B4       4.0    float        Z*+K*        False  ...           False   \n",
       "sheet1!B5       9.0    float   SUM(B*:B*)        False  ...            True   \n",
       "\n",
       "           up1_isWeaklyFormulaConsistent  up2_isWeaklyFormulaConsistent  \\\n",
       "sheet1!B2                          False                           True   \n",
       "sheet1!B3                           True                          False   \n",
       "sheet1!B4                          False                           True   \n",
       "sheet1!B5                          False                          False   \n",
       "\n",
       "           dw1_isBlank  dw1_isFormula  dw1_isSameType  \\\n",
       "sheet1!B2        False           True            True   \n",
       "sheet1!B3        False           True           False   \n",
       "sheet1!B4        False           True            True   \n",
       "sheet1!B5         True          False           False   \n",
       "\n",
       "           dw1_isWeaklyFormulaConsistent  dw2_isWeaklyFormulaConsistent  \\\n",
       "sheet1!B2                           True                           True   \n",
       "sheet1!B3                          False                          False   \n",
       "sheet1!B4                          False                           True   \n",
       "sheet1!B5                           True                          False   \n",
       "\n",
       "           nb1_isWeaklyFormulaConsistent  dw1_isSum  \n",
       "sheet1!B2                          False      False  \n",
       "sheet1!B3                          False      False  \n",
       "sheet1!B4                          False       True  \n",
       "sheet1!B5                           True      False  \n",
       "\n",
       "[4 rows x 21 columns]"
      ]
     },
     "execution_count": 25,
     "metadata": {},
     "output_type": "execute_result"
    }
   ],
   "source": [
    "db_inf.df"
   ]
  },
  {
   "cell_type": "code",
   "execution_count": 26,
   "id": "e93978c9",
   "metadata": {},
   "outputs": [],
   "source": [
    "df_inf_1 = db_inf.get_inconsistent_cells()\n",
    "assert len(df_inf_1) == 4"
   ]
  },
  {
   "cell_type": "code",
   "execution_count": 31,
   "id": "eae6495a",
   "metadata": {},
   "outputs": [],
   "source": [
    "df_inf_2 = db_inf.get_inconsistent_cells(sheet_filter='sheet1')\n",
    "assert len(df_inf_2) == 4"
   ]
  },
  {
   "cell_type": "code",
   "execution_count": 32,
   "id": "eae6495a",
   "metadata": {},
   "outputs": [],
   "source": [
    "df_inf_3 = db_inf.get_inconsistent_cells(sheet_filter='sheet1', cell_filter='B2')\n",
    "assert len(df_inf_3) == 1"
   ]
  }
 ],
 "metadata": {
  "interpreter": {
   "hash": "abe6fa7e8b4ac23f6efab556279ceea13b740e4c89a67f55bac6979fc86b2bd2"
  },
  "kernelspec": {
   "display_name": "Python 3.7.12 ('databook')",
   "language": "python",
   "name": "python3"
  },
  "language_info": {
   "codemirror_mode": {
    "name": "ipython",
    "version": 3
   },
   "file_extension": ".py",
   "mimetype": "text/x-python",
   "name": "python",
   "nbconvert_exporter": "python",
   "pygments_lexer": "ipython3",
   "version": "3.7.12"
  }
 },
 "nbformat": 4,
 "nbformat_minor": 5
}
